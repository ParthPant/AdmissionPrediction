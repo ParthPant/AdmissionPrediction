{
 "cells": [
  {
   "cell_type": "markdown",
   "metadata": {},
   "source": [
    "# Admisson Prediction"
   ]
  },
  {
   "cell_type": "code",
   "execution_count": 1,
   "metadata": {},
   "outputs": [],
   "source": [
    "import pandas as pd\n",
    "import numpy as np\n",
    "from tqdm import tqdm\n",
    "import matplotlib.pyplot as plt\n",
    "%matplotlib inline"
   ]
  },
  {
   "cell_type": "code",
   "execution_count": 2,
   "metadata": {},
   "outputs": [],
   "source": [
    "data = pd.read_csv('Admission_Predict.csv')\n",
    "data.drop('Serial No.',axis = 1,inplace = True)\n",
    "df = data.to_numpy(dtype = 'float32')\n",
    "x_all = df[:,:7]\n",
    "x_all = np.append(x_all,np.ones([x_all.shape[0],1]),axis =1)\n",
    "y_all = df[:,-1]\n",
    "x_train = x_all[:280,:]\n",
    "y_train = y_all[:280]\n",
    "x_test = x_all[280:,:]\n",
    "y_test = y_all[280:]"
   ]
  },
  {
   "cell_type": "code",
   "execution_count": 3,
   "metadata": {},
   "outputs": [],
   "source": [
    "def getHypothesis(x,w):\n",
    "    return np.dot(w,x.T)"
   ]
  },
  {
   "cell_type": "code",
   "execution_count": 4,
   "metadata": {},
   "outputs": [],
   "source": [
    "def getLoss(x,y,w):\n",
    "    h_theta = getHypothesis(x,w)\n",
    "    loss = (1/2)*((h_theta - y)**2)\n",
    "    grad = np.dot((h_theta -y).T,x) \n",
    "    return loss, grad"
   ]
  },
  {
   "cell_type": "code",
   "execution_count": 5,
   "metadata": {},
   "outputs": [
    {
     "name": "stderr",
     "output_type": "stream",
     "text": [
      "100%|████████████████████████████████████████████████████████████████████████████| 1000/1000 [00:00<00:00, 7176.02it/s]"
     ]
    },
    {
     "name": "stdout",
     "output_type": "stream",
     "text": [
      "0.008088041010203113\n"
     ]
    },
    {
     "name": "stderr",
     "output_type": "stream",
     "text": [
      "\n"
     ]
    }
   ],
   "source": [
    "weights = np.zeros([x_train.shape[1]])\n",
    "# np.dot(weights,x_all.T) - y_all\n",
    "iterations =1000\n",
    "learning_rate = 1e-10\n",
    "losses = []\n",
    "for i  in tqdm(range(iterations)):\n",
    "    loss, grad = getLoss(x_train,y_train,weights)\n",
    "    weights = weights - learning_rate*(grad)\n",
    "    losses.append(np.sum(loss)/len(loss))\n",
    "print (np.sum(loss)/len(loss))"
   ]
  },
  {
   "cell_type": "code",
   "execution_count": 6,
   "metadata": {},
   "outputs": [
    {
     "data": {
      "text/plain": [
       "[<matplotlib.lines.Line2D at 0x17895744908>]"
      ]
     },
     "execution_count": 6,
     "metadata": {},
     "output_type": "execute_result"
    },
    {
     "data": {
      "image/png": "[encoded data removed]",
      "text/plain": [
       "<Figure size 432x288 with 1 Axes>"
      ]
     },
     "metadata": {
      "needs_background": "light"
     },
     "output_type": "display_data"
    }
   ],
   "source": [
    "plt.plot(losses)"
   ]
  },
  {
   "cell_type": "code",
   "execution_count": 7,
   "metadata": {},
   "outputs": [],
   "source": [
    "def getAccuracy(x,y,w):\n",
    "    h_theta = getHypothesis(x,w)\n",
    "    err = (h_theta - y)/y\n",
    "    accuracy = 1-(np.sum(err)/len(err))\n",
    "    return accuracy"
   ]
  },
  {
   "cell_type": "code",
   "execution_count": 8,
   "metadata": {},
   "outputs": [
    {
     "name": "stdout",
     "output_type": "stream",
     "text": [
      "Training Accuracy:  0.9990455528868389\n",
      "Testing Accuracy:  0.9874105508974729\n"
     ]
    }
   ],
   "source": [
    "print(\"Training Accuracy: \",getAccuracy(x_train,y_train,weights))\n",
    "print(\"Testing Accuracy: \",getAccuracy(x_test,y_test,weights))"
   ]
  },
  {
   "cell_type": "code",
   "execution_count": 9,
   "metadata": {},
   "outputs": [],
   "source": [
    "def predict(x):\n",
    "    x = np.append(x,np.array(1))\n",
    "    return np.dot(weights,x)"
   ]
  }
 ],
 "metadata": {
  "kernelspec": {
   "display_name": "Python 3",
   "language": "python",
   "name": "python3"
  },
  "language_info": {
   "codemirror_mode": {
    "name": "ipython",
    "version": 3
   },
   "file_extension": ".py",
   "mimetype": "text/x-python",
   "name": "python",
   "nbconvert_exporter": "python",
   "pygments_lexer": "ipython3",
   "version": "3.7.6"
  }
 },
 "nbformat": 4,
 "nbformat_minor": 4
}
